{
 "cells": [
  {
   "cell_type": "code",
   "execution_count": 1,
   "metadata": {},
   "outputs": [],
   "source": [
    "data = [{\"id\":274,\"name\":\"Adega\",\"slug\":\"adega\",\"description\":\"\",\"parent\":0,\"count\":24},{\"id\":275,\"name\":\"Alotian\",\"slug\":\"alotian\",\"description\":\"\",\"parent\":0,\"count\":24},{\"id\":898,\"name\":\"Anique\",\"slug\":\"anique\",\"description\":\"\",\"parent\":0,\"count\":16},{\"id\":280,\"name\":\"Ario\",\"slug\":\"ario\",\"description\":\"\",\"parent\":0,\"count\":18},{\"id\":281,\"name\":\"Arras\",\"slug\":\"arras\",\"description\":\"\",\"parent\":0,\"count\":22},{\"id\":704,\"name\":\"Aurora\",\"slug\":\"aurora\",\"description\":\"\",\"parent\":0,\"count\":1},{\"id\":738,\"name\":\"Aztec\",\"slug\":\"aztec\",\"description\":\"\",\"parent\":0,\"count\":1},{\"id\":870,\"name\":\"Bellalino\",\"slug\":\"bellalino\",\"description\":\"\",\"parent\":0,\"count\":18},{\"id\":699,\"name\":\"Bhalla Silk\",\"slug\":\"bhalla-silk\",\"description\":\"\",\"parent\":0,\"count\":18},{\"id\":741,\"name\":\"Bogart\",\"slug\":\"bogart\",\"description\":\"\",\"parent\":0,\"count\":1},{\"id\":859,\"name\":\"Boka Bloom\",\"slug\":\"boka-bloom\",\"description\":\"\",\"parent\":0,\"count\":20},{\"id\":761,\"name\":\"Boka Grid\",\"slug\":\"boka-grid\",\"description\":\"\",\"parent\":0,\"count\":20},{\"id\":760,\"name\":\"Boka Silk\",\"slug\":\"boka-silk\",\"description\":\"\",\"parent\":0,\"count\":20},{\"id\":740,\"name\":\"Braille Chevron\",\"slug\":\"braille-chevron\",\"description\":\"\",\"parent\":0,\"count\":1},{\"id\":988,\"name\":\"Brocha\",\"slug\":\"brocha\",\"description\":\"\",\"parent\":0,\"count\":16},{\"id\":734,\"name\":\"Broken Lattice\",\"slug\":\"broken-lattice\",\"description\":\"\",\"parent\":0,\"count\":1},{\"id\":287,\"name\":\"Caleb\",\"slug\":\"caleb\",\"description\":\"\",\"parent\":0,\"count\":22},{\"id\":293,\"name\":\"Caleb Fret\",\"slug\":\"caleb-fret\",\"description\":\"\",\"parent\":0,\"count\":12},{\"id\":298,\"name\":\"Canton Crepe Silk Matte\",\"slug\":\"canton-crepe-silk-matte\",\"description\":\"\",\"parent\":0,\"count\":20},{\"id\":848,\"name\":\"Canton Crepe Silk Satin\",\"slug\":\"canton-crepe-silk-satin\",\"description\":\"\",\"parent\":0,\"count\":20},{\"id\":299,\"name\":\"Canton Rainsilk\",\"slug\":\"canton-rainsilk\",\"description\":\"\",\"parent\":0,\"count\":20},{\"id\":297,\"name\":\"Casson\",\"slug\":\"casson\",\"description\":\"\",\"parent\":0,\"count\":18},{\"id\":733,\"name\":\"Chrysanthemum\",\"slug\":\"chrysanthemum\",\"description\":\"\",\"parent\":0,\"count\":1},{\"id\":313,\"name\":\"City Loft\",\"slug\":\"city-loft\",\"description\":\"\",\"parent\":0,\"count\":14},{\"id\":373,\"name\":\"Colourways II\",\"slug\":\"colourways-ii\",\"description\":\"\",\"parent\":0,\"count\":51},{\"id\":830,\"name\":\"Colourways III\",\"slug\":\"colourways-iii\",\"description\":\"\",\"parent\":0,\"count\":55},{\"id\":735,\"name\":\"Concentric\",\"slug\":\"concentric\",\"description\":\"\",\"parent\":0,\"count\":1},{\"id\":737,\"name\":\"Cut It Out\",\"slug\":\"cut-it-out\",\"description\":\"\",\"parent\":0,\"count\":1},{\"id\":267,\"name\":\"Decca\\u2122\",\"slug\":\"decca\",\"description\":\"\",\"parent\":0,\"count\":22},{\"id\":751,\"name\":\"Don\\u2019t Cross the Line\",\"slug\":\"dont-cross-the-line\",\"description\":\"\",\"parent\":0,\"count\":1},{\"id\":931,\"name\":\"Dont Frette\",\"slug\":\"dont-frette\",\"description\":\"\",\"parent\":0,\"count\":1},{\"id\":731,\"name\":\"Eden\",\"slug\":\"eden\",\"description\":\"\",\"parent\":0,\"count\":1},{\"id\":902,\"name\":\"Eniko\",\"slug\":\"eniko\",\"description\":\"\",\"parent\":0,\"count\":16},{\"id\":755,\"name\":\"Estrelle\",\"slug\":\"estrelle\",\"description\":\"\",\"parent\":0,\"count\":22},{\"id\":785,\"name\":\"Farrah\",\"slug\":\"farrah\",\"description\":\"\",\"parent\":0,\"count\":16},{\"id\":786,\"name\":\"Farrah Chevron\",\"slug\":\"farrah-chevron\",\"description\":\"\",\"parent\":0,\"count\":16},{\"id\":932,\"name\":\"Geode\",\"slug\":\"geode\",\"description\":\"\",\"parent\":0,\"count\":1},{\"id\":810,\"name\":\"Ghost Concrete\",\"slug\":\"ghost-concrete\",\"description\":\"\",\"parent\":0,\"count\":16},{\"id\":306,\"name\":\"Kaden\",\"slug\":\"kaden\",\"description\":\"\",\"parent\":0,\"count\":18},{\"id\":752,\"name\":\"Kaleidoscope\",\"slug\":\"kaleidoscope\",\"description\":\"\",\"parent\":0,\"count\":1},{\"id\":305,\"name\":\"Kamari\",\"slug\":\"kamari\",\"description\":\"\",\"parent\":0,\"count\":18},{\"id\":308,\"name\":\"Keo\",\"slug\":\"keo\",\"description\":\"\",\"parent\":0,\"count\":16},{\"id\":744,\"name\":\"Kinetic\",\"slug\":\"kinetic\",\"description\":\"\",\"parent\":0,\"count\":1},{\"id\":732,\"name\":\"Lanterns\",\"slug\":\"lanterns\",\"description\":\"\",\"parent\":0,\"count\":1},{\"id\":873,\"name\":\"Lario\",\"slug\":\"lario\",\"description\":\"\",\"parent\":0,\"count\":16},{\"id\":815,\"name\":\"Lattice Silk\",\"slug\":\"lattice-silk\",\"description\":\"\",\"parent\":0,\"count\":22},{\"id\":315,\"name\":\"Lavina Silk\",\"slug\":\"lavina-silk\",\"description\":\"\",\"parent\":0,\"count\":22},{\"id\":933,\"name\":\"Leaf Me Alone\",\"slug\":\"leaf-me-alone\",\"description\":\"\",\"parent\":0,\"count\":1},{\"id\":303,\"name\":\"Lena\",\"slug\":\"lena\",\"description\":\"\",\"parent\":0,\"count\":18},{\"id\":822,\"name\":\"Loblolly\",\"slug\":\"loblolly\",\"description\":\"\",\"parent\":0,\"count\":16},{\"id\":772,\"name\":\"Magliano\",\"slug\":\"magliano\",\"description\":\"\",\"parent\":0,\"count\":20},{\"id\":746,\"name\":\"Mandala\",\"slug\":\"mandala\",\"description\":\"\",\"parent\":0,\"count\":1},{\"id\":730,\"name\":\"Medallion\",\"slug\":\"medallion\",\"description\":\"\",\"parent\":0,\"count\":1},{\"id\":319,\"name\":\"Miscela\",\"slug\":\"miscela\",\"description\":\"\",\"parent\":0,\"count\":20},{\"id\":743,\"name\":\"Mock Croc\",\"slug\":\"mock-croc\",\"description\":\"\",\"parent\":0,\"count\":1},{\"id\":749,\"name\":\"Navajo\",\"slug\":\"navajo\",\"description\":\"\",\"parent\":0,\"count\":1},{\"id\":747,\"name\":\"Nesting Squares\",\"slug\":\"nesting-squares\",\"description\":\"\",\"parent\":0,\"count\":1},{\"id\":323,\"name\":\"Nouri\",\"slug\":\"nouri\",\"description\":\"\",\"parent\":0,\"count\":18},{\"id\":322,\"name\":\"Nouri Texture\",\"slug\":\"nouri-texture\",\"description\":\"\",\"parent\":0,\"count\":17},{\"id\":324,\"name\":\"Novello\",\"slug\":\"novello\",\"description\":\"\",\"parent\":0,\"count\":16},{\"id\":325,\"name\":\"Obana\",\"slug\":\"obana\",\"description\":\"\",\"parent\":0,\"count\":20},{\"id\":326,\"name\":\"Obana Glint\",\"slug\":\"obana-glint\",\"description\":\"\",\"parent\":0,\"count\":20},{\"id\":327,\"name\":\"Obana Ogee\",\"slug\":\"obana-ogee\",\"description\":\"\",\"parent\":0,\"count\":21},{\"id\":736,\"name\":\"Ombre Trellis\",\"slug\":\"ombre-trellis\",\"description\":\"\",\"parent\":0,\"count\":1},{\"id\":745,\"name\":\"Painted Stucco\",\"slug\":\"painted-stucco\",\"description\":\"\",\"parent\":0,\"count\":1},{\"id\":942,\"name\":\"Paua Shell\",\"slug\":\"paua-shell\",\"description\":\"\",\"parent\":0,\"count\":1},{\"id\":329,\"name\":\"Pedra\",\"slug\":\"pedra\",\"description\":\"\",\"parent\":0,\"count\":22},{\"id\":742,\"name\":\"Polaris\",\"slug\":\"polaris\",\"description\":\"\",\"parent\":0,\"count\":1},{\"id\":368,\"name\":\"Prado\",\"slug\":\"prado\",\"description\":\"\",\"parent\":0,\"count\":21},{\"id\":739,\"name\":\"Ribbons\",\"slug\":\"ribbons\",\"description\":\"\",\"parent\":0,\"count\":1},{\"id\":333,\"name\":\"Sabo\",\"slug\":\"sabo\",\"description\":\"\",\"parent\":0,\"count\":18},{\"id\":972,\"name\":\"Sarnia Silk\",\"slug\":\"sarnia-silk\",\"description\":\"\",\"parent\":0,\"count\":16},{\"id\":753,\"name\":\"Shattered Graphite\",\"slug\":\"shattered-graphite\",\"description\":\"\",\"parent\":0,\"count\":1},{\"id\":334,\"name\":\"Shilo\",\"slug\":\"shilo\",\"description\":\"\",\"parent\":0,\"count\":20},{\"id\":370,\"name\":\"Shimmer Weave\",\"slug\":\"shimmer-weave\",\"description\":\"\",\"parent\":0,\"count\":22},{\"id\":943,\"name\":\"Sliced Wood\",\"slug\":\"sliced-wood\",\"description\":\"\",\"parent\":0,\"count\":1},{\"id\":335,\"name\":\"Sonzi\",\"slug\":\"sonzi\",\"description\":\"\",\"parent\":0,\"count\":18},{\"id\":750,\"name\":\"Spectrum\",\"slug\":\"spectrum\",\"description\":\"\",\"parent\":0,\"count\":1},{\"id\":748,\"name\":\"Spirograph\",\"slug\":\"spirograph\",\"description\":\"\",\"parent\":0,\"count\":1},{\"id\":345,\"name\":\"Tofino\",\"slug\":\"tofino\",\"description\":\"\",\"parent\":0,\"count\":14},{\"id\":849,\"name\":\"Toru\",\"slug\":\"toru\",\"description\":\"\",\"parent\":0,\"count\":18},{\"id\":934,\"name\":\"Trillo Jean\",\"slug\":\"trillo-jean\",\"description\":\"\",\"parent\":0,\"count\":1},{\"id\":881,\"name\":\"Urban Forest\",\"slug\":\"urban-forest\",\"description\":\"\",\"parent\":0,\"count\":18},{\"id\":977,\"name\":\"Viewfinder\",\"slug\":\"view-finder\",\"description\":\"\",\"parent\":0,\"count\":16},{\"id\":925,\"name\":\"White Coral\",\"slug\":\"white-coral\",\"description\":\"\",\"parent\":0,\"count\":1},{\"id\":944,\"name\":\"Wind\",\"slug\":\"wind\",\"description\":\"\",\"parent\":0,\"count\":1},{\"id\":909,\"name\":\"Woodlands Edge\",\"slug\":\"woodlands-edge\",\"description\":\"\",\"parent\":0,\"count\":14},{\"id\":352,\"name\":\"Yoshi\",\"slug\":\"yoshi\",\"description\":\"\",\"parent\":0,\"count\":17},{\"id\":351,\"name\":\"Yoshi Glint\",\"slug\":\"yoshi-glint\",\"description\":\"\",\"parent\":0,\"count\":20},{\"id\":778,\"name\":\"Zaya\",\"slug\":\"zaya\",\"description\":\"\",\"parent\":0,\"count\":16},{\"id\":353,\"name\":\"Zazou\",\"slug\":\"zazou\",\"description\":\"\",\"parent\":0,\"count\":18},{\"id\":354,\"name\":\"Zuna\",\"slug\":\"zuna\",\"description\":\"\",\"parent\":0,\"count\":24}]"
   ]
  },
  {
   "cell_type": "code",
   "execution_count": 17,
   "metadata": {},
   "outputs": [],
   "source": [
    "import json\n",
    "data = json.load(open(\"catgories.json\",\"rb\"))"
   ]
  },
  {
   "cell_type": "code",
   "execution_count": 18,
   "metadata": {},
   "outputs": [
    {
     "data": {
      "text/plain": [
       "231"
      ]
     },
     "execution_count": 18,
     "metadata": {},
     "output_type": "execute_result"
    }
   ],
   "source": [
    "len(data)"
   ]
  },
  {
   "cell_type": "code",
   "execution_count": 16,
   "metadata": {},
   "outputs": [
    {
     "data": {
      "text/plain": [
       "1039"
      ]
     },
     "execution_count": 16,
     "metadata": {},
     "output_type": "execute_result"
    }
   ],
   "source": [
    "c = 0\n",
    "for i in data:\n",
    "    c+=1\n",
    "    c += len(i[\"variants\"])\n",
    "c"
   ]
  },
  {
   "cell_type": "code",
   "execution_count": null,
   "metadata": {},
   "outputs": [],
   "source": []
  }
 ],
 "metadata": {
  "interpreter": {
   "hash": "298b1c999ef95c5d0fbfb467a61f45c41ea5751b587a5d8656432f1a8bcf2176"
  },
  "kernelspec": {
   "display_name": "Python 3.8.3 64-bit ('virtual_workspace': conda)",
   "language": "python",
   "name": "python3"
  },
  "language_info": {
   "codemirror_mode": {
    "name": "ipython",
    "version": 3
   },
   "file_extension": ".py",
   "mimetype": "text/x-python",
   "name": "python",
   "nbconvert_exporter": "python",
   "pygments_lexer": "ipython3",
   "version": "3.8.3"
  },
  "orig_nbformat": 4
 },
 "nbformat": 4,
 "nbformat_minor": 2
}
